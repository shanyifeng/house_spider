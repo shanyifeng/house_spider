{
 "cells": [
  {
   "cell_type": "code",
   "execution_count": null,
   "metadata": {
    "collapsed": true
   },
   "outputs": [],
   "source": [
    "import os\n",
    "import sqlite3\n",
    "import settings\n",
    "import pandas as pd\n",
    "from lib.path import DATA_PATH\n",
    "\n",
    "db_path = os.path.join(DATA_PATH, settings.DBNAME)\n",
    "conn = sqlite3.connect(db_path)\n",
    "\n",
    "\n",
    "def table_dataframe(table):\n",
    "    return pd.read_sql_query(f\"select * from {table};\", conn)\n",
    "\n",
    "%matplotlib inline\n",
    "\n",
    "\n"
   ]
  }
 ],
 "metadata": {
  "language_info": {
   "codemirror_mode": {
    "name": "ipython",
    "version": 2
   },
   "file_extension": ".py",
   "mimetype": "text/x-python",
   "name": "python",
   "nbconvert_exporter": "python",
   "pygments_lexer": "ipython2",
   "version": "2.7.6"
  },
  "kernelspec": {
   "name": "python3",
   "language": "python",
   "display_name": "Python 3"
  },
  "pycharm": {
   "stem_cell": {
    "cell_type": "raw",
    "source": [
     "#!/usr/bin/env python\n",
     "# coding=utf-8\n",
     "# author: \n"
    ],
    "metadata": {
     "collapsed": false
    }
   }
  }
 },
 "nbformat": 4,
 "nbformat_minor": 0
}